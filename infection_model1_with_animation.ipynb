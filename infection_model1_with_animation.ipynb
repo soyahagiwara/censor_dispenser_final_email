{
 "cells": [
  {
   "cell_type": "code",
   "execution_count": 29,
   "metadata": {},
   "outputs": [],
   "source": [
    "import numpy as np\n",
    "from random import randint\n",
    "import matplotlib.pyplot as plt\n",
    "import pandas as pd\n",
    "from  matplotlib.animation import FuncAnimation"
   ]
  },
  {
   "cell_type": "code",
   "execution_count": 31,
   "metadata": {},
   "outputs": [],
   "source": [
    "# defining a function which checks if the person is out of range(1 to 100)\n",
    "def check_range(position, edge): # position is either x or y. edge is either x_edge or y_edge\n",
    "    if 1 <= position <= edge:\n",
    "        return True\n",
    "    else:\n",
    "        return False"
   ]
  },
  {
   "cell_type": "code",
   "execution_count": 32,
   "metadata": {},
   "outputs": [],
   "source": [
    "# this will be used to measure distance between people.\n",
    "def distance(position1, position2):\n",
    "    delta_x = position1[0] - position2[0]\n",
    "    delta_y = position1[1] - position2[1]\n",
    "    return (delta_x**2 + delta_y**2)**0.5"
   ]
  },
  {
   "cell_type": "code",
   "execution_count": 33,
   "metadata": {},
   "outputs": [],
   "source": [
    "# checks all the people if they are infected or not by their positions.\n",
    "# infected_people consists of indexes of infected people.\n",
    "# this will be used every time 'positions_array' is updated.\n",
    "def check_infection1(infected_people, positions_array, num_people):\n",
    "    new_infected_people = []\n",
    "    for i in range(num_people):\n",
    "        if i in infected_people:\n",
    "            continue\n",
    "        else:\n",
    "            for j in infected_people:\n",
    "                if distance(positions_array[i,:], positions_array[j, :]) < 2:\n",
    "                    new_infected_people.append(i)\n",
    "                    break\n",
    "    infected_people += new_infected_people\n",
    "    return infected_people"
   ]
  },
  {
   "cell_type": "code",
   "execution_count": 34,
   "metadata": {},
   "outputs": [],
   "source": [
    "# sets initial positions as 2d array with the shape of (num_people, 2)\n",
    "def set_initial_positions(num_people, x_edge, y_edge):\n",
    "    positions_list = []\n",
    "    for i in range(num_people):\n",
    "        position = randint(1, x_edge), randint(1, y_edge)\n",
    "        positions_list.append(position)\n",
    "    return np.array(positions_list).reshape(-1, 2)\n",
    "    "
   ]
  },
  {
   "cell_type": "code",
   "execution_count": 35,
   "metadata": {},
   "outputs": [],
   "source": [
    "def set_infected_people(num_infected, num_people):\n",
    "    infected_people = []\n",
    "    for i in range(num_infected):\n",
    "        while True:\n",
    "            infected_person = randint(0, num_people-1)# matrix's index starts at 0. So its index ranges from 0 to num_people-1\n",
    "            if not infected_person in infected_people:\n",
    "                infected_people.append(infected_person)\n",
    "                break\n",
    "    return infected_people"
   ]
  },
  {
   "cell_type": "code",
   "execution_count": 30,
   "metadata": {},
   "outputs": [],
   "source": [
    "positive_or_negative = [1, -1]"
   ]
  },
  {
   "cell_type": "code",
   "execution_count": 36,
   "metadata": {},
   "outputs": [],
   "source": [
    "def set_velocity():\n",
    "    velocity_x = positive_or_negative[randint(0, 1)]\n",
    "    velocity_y = positive_or_negative[randint(0, 1)]\n",
    "    return velocity_x, velocity_y"
   ]
  },
  {
   "cell_type": "code",
   "execution_count": 37,
   "metadata": {},
   "outputs": [],
   "source": [
    "def set_initial_velocity(num_people):\n",
    "    velocities_list = []\n",
    "    for i in range(num_people):\n",
    "        velocities_list.append(set_velocity())\n",
    "    return np.array(velocities_list).reshape(-1, 2)"
   ]
  },
  {
   "cell_type": "code",
   "execution_count": 38,
   "metadata": {},
   "outputs": [],
   "source": [
    "def find_infected_positions(infected_people, positions_array):\n",
    "    infected_positions_list = []\n",
    "    for i in infected_people:\n",
    "        infected_positions_list.append(positions_array[i,:])\n",
    "    return np.array(infected_positions_list)"
   ]
  },
  {
   "cell_type": "code",
   "execution_count": 39,
   "metadata": {},
   "outputs": [],
   "source": [
    "def move_people(num_infected, num_people, positions_array, velocities_array, x_edge, y_edge):\n",
    "    for i in range(num_people):\n",
    "        x, y = positions_array[i]\n",
    "        velocity_x, velocity_y = velocities_array[i]\n",
    "        new_x = x + velocity_x\n",
    "        if check_range(new_x, x_edge) == False:\n",
    "            if velocity_x == -1:\n",
    "                velocity_x = 1\n",
    "                new_x = x + velocity_x\n",
    "                if check_range(new_x, x_edge) == False:\n",
    "                    print(positions_array[i], velocities_array[i],new_x , ny, velocity_x, velocity_y)\n",
    "                    raise ValueError                        \n",
    "            elif velocity_x == 1:\n",
    "                velocity_x = -1\n",
    "                new_x = x + velocity_x\n",
    "                if check_range(new_x, x_edge) == False:\n",
    "                    print(positions_array[i], velocities_array[i],new_x , ny, velocity_x, velocity_y)\n",
    "                    raise ValueError\n",
    "        x = new_x\n",
    "        new_y = y + velocity_y\n",
    "        if check_range(new_y, y_edge) == False:\n",
    "            if velocity_y == -1:\n",
    "                velocity_y = 1\n",
    "                new_y = y + velocity_y\n",
    "                if check_range(new_y, y_edge) == False:\n",
    "                    print(positions_array[i], velocities_array[i],x, new_y, velocity_x, velocity_y)\n",
    "                    raise ValueError\n",
    "            elif velocity_y == 1:\n",
    "                velocity_y = -1\n",
    "                new_y = y + velocity_y\n",
    "                if check_range(new_y, y_edge) == False:\n",
    "                    print(positions_array[i], velocities_array[i],x, new_y, velocity_x, velocity_y)\n",
    "                    raise ValueError\n",
    "        y = new_y\n",
    "        positions_array[i] = np.array([x,y])\n",
    "        velocities_array[i] = np.array([velocity_x,velocity_y])\n",
    "    return positions_array, velocities_array"
   ]
  },
  {
   "cell_type": "code",
   "execution_count": 40,
   "metadata": {},
   "outputs": [],
   "source": [
    "def infection_model1(duration, num_people, num_infected, x_edge, y_edge):\n",
    "    # this is going to hold important results. \n",
    "    results = pd.DataFrame(columns = ['t', 'num_infected', 'infected_positions_array', 'positions_array'])\n",
    "    # setting initial positions as 2d array with the shape of (num_people, 2)\n",
    "    positions_array = set_initial_positions(num_people, x_edge, y_edge)\n",
    "    # setting initial velocities as 2d array with the shape of (num_people, 2)\n",
    "    velocities_array = set_initial_velocity(num_people)\n",
    "    # chosing which people are infected randomly\n",
    "    infected_people = set_infected_people(num_infected, num_people)\n",
    "    # saving initial states\n",
    "    infected_positions_array = find_infected_positions(infected_people, positions_array)\n",
    "    results.loc[0] = [0, num_infected, infected_positions_array, positions_array]\n",
    "    # moving people's positions 'duration' times\n",
    "    for t in range(1, duration+1):\n",
    "        positions_array, velocities_array = move_people(num_infected, num_people, positions_array, velocities_array, x_edge, y_edge)\n",
    "        infected_people = check_infection1(infected_people, positions_array, num_people)\n",
    "        num_infected = len(infected_people)\n",
    "        infected_positions_array = find_infected_positions(infected_people, positions_array)\n",
    "        results.loc[t] = [t, num_infected, infected_positions_array, positions_array]\n",
    "    return results"
   ]
  },
  {
   "cell_type": "code",
   "execution_count": 49,
   "metadata": {},
   "outputs": [
    {
     "data": {
      "text/html": [
       "<div>\n",
       "<style scoped>\n",
       "    .dataframe tbody tr th:only-of-type {\n",
       "        vertical-align: middle;\n",
       "    }\n",
       "\n",
       "    .dataframe tbody tr th {\n",
       "        vertical-align: top;\n",
       "    }\n",
       "\n",
       "    .dataframe thead th {\n",
       "        text-align: right;\n",
       "    }\n",
       "</style>\n",
       "<table border=\"1\" class=\"dataframe\">\n",
       "  <thead>\n",
       "    <tr style=\"text-align: right;\">\n",
       "      <th></th>\n",
       "      <th>t</th>\n",
       "      <th>num_infected</th>\n",
       "      <th>infected_positions_array</th>\n",
       "      <th>positions_array</th>\n",
       "    </tr>\n",
       "  </thead>\n",
       "  <tbody>\n",
       "    <tr>\n",
       "      <th>0</th>\n",
       "      <td>0</td>\n",
       "      <td>5</td>\n",
       "      <td>[[252, 207], [116, 87], [91, 185], [491, 363],...</td>\n",
       "      <td>[[14, 365], [456, 450], [366, 464], [492, 480]...</td>\n",
       "    </tr>\n",
       "    <tr>\n",
       "      <th>1</th>\n",
       "      <td>1</td>\n",
       "      <td>5</td>\n",
       "      <td>[[251, 208], [117, 88], [90, 184], [490, 362],...</td>\n",
       "      <td>[[14, 365], [456, 450], [366, 464], [492, 480]...</td>\n",
       "    </tr>\n",
       "    <tr>\n",
       "      <th>2</th>\n",
       "      <td>2</td>\n",
       "      <td>5</td>\n",
       "      <td>[[250, 209], [118, 89], [89, 183], [489, 361],...</td>\n",
       "      <td>[[14, 365], [456, 450], [366, 464], [492, 480]...</td>\n",
       "    </tr>\n",
       "    <tr>\n",
       "      <th>3</th>\n",
       "      <td>3</td>\n",
       "      <td>5</td>\n",
       "      <td>[[249, 210], [119, 90], [88, 182], [488, 360],...</td>\n",
       "      <td>[[14, 365], [456, 450], [366, 464], [492, 480]...</td>\n",
       "    </tr>\n",
       "    <tr>\n",
       "      <th>4</th>\n",
       "      <td>4</td>\n",
       "      <td>5</td>\n",
       "      <td>[[248, 211], [120, 91], [87, 181], [487, 359],...</td>\n",
       "      <td>[[14, 365], [456, 450], [366, 464], [492, 480]...</td>\n",
       "    </tr>\n",
       "    <tr>\n",
       "      <th>...</th>\n",
       "      <td>...</td>\n",
       "      <td>...</td>\n",
       "      <td>...</td>\n",
       "      <td>...</td>\n",
       "    </tr>\n",
       "    <tr>\n",
       "      <th>996</th>\n",
       "      <td>996</td>\n",
       "      <td>1000</td>\n",
       "      <td>[[254, 205], [114, 85], [93, 187], [493, 365],...</td>\n",
       "      <td>[[14, 365], [456, 450], [366, 464], [492, 480]...</td>\n",
       "    </tr>\n",
       "    <tr>\n",
       "      <th>997</th>\n",
       "      <td>997</td>\n",
       "      <td>1000</td>\n",
       "      <td>[[253, 206], [115, 86], [92, 186], [492, 364],...</td>\n",
       "      <td>[[14, 365], [456, 450], [366, 464], [492, 480]...</td>\n",
       "    </tr>\n",
       "    <tr>\n",
       "      <th>998</th>\n",
       "      <td>998</td>\n",
       "      <td>1000</td>\n",
       "      <td>[[252, 207], [116, 87], [91, 185], [491, 363],...</td>\n",
       "      <td>[[14, 365], [456, 450], [366, 464], [492, 480]...</td>\n",
       "    </tr>\n",
       "    <tr>\n",
       "      <th>999</th>\n",
       "      <td>999</td>\n",
       "      <td>1000</td>\n",
       "      <td>[[251, 208], [117, 88], [90, 184], [490, 362],...</td>\n",
       "      <td>[[14, 365], [456, 450], [366, 464], [492, 480]...</td>\n",
       "    </tr>\n",
       "    <tr>\n",
       "      <th>1000</th>\n",
       "      <td>1000</td>\n",
       "      <td>1000</td>\n",
       "      <td>[[250, 209], [118, 89], [89, 183], [489, 361],...</td>\n",
       "      <td>[[14, 365], [456, 450], [366, 464], [492, 480]...</td>\n",
       "    </tr>\n",
       "  </tbody>\n",
       "</table>\n",
       "<p>1001 rows × 4 columns</p>\n",
       "</div>"
      ],
      "text/plain": [
       "         t num_infected                           infected_positions_array  \\\n",
       "0        0            5  [[252, 207], [116, 87], [91, 185], [491, 363],...   \n",
       "1        1            5  [[251, 208], [117, 88], [90, 184], [490, 362],...   \n",
       "2        2            5  [[250, 209], [118, 89], [89, 183], [489, 361],...   \n",
       "3        3            5  [[249, 210], [119, 90], [88, 182], [488, 360],...   \n",
       "4        4            5  [[248, 211], [120, 91], [87, 181], [487, 359],...   \n",
       "...    ...          ...                                                ...   \n",
       "996    996         1000  [[254, 205], [114, 85], [93, 187], [493, 365],...   \n",
       "997    997         1000  [[253, 206], [115, 86], [92, 186], [492, 364],...   \n",
       "998    998         1000  [[252, 207], [116, 87], [91, 185], [491, 363],...   \n",
       "999    999         1000  [[251, 208], [117, 88], [90, 184], [490, 362],...   \n",
       "1000  1000         1000  [[250, 209], [118, 89], [89, 183], [489, 361],...   \n",
       "\n",
       "                                        positions_array  \n",
       "0     [[14, 365], [456, 450], [366, 464], [492, 480]...  \n",
       "1     [[14, 365], [456, 450], [366, 464], [492, 480]...  \n",
       "2     [[14, 365], [456, 450], [366, 464], [492, 480]...  \n",
       "3     [[14, 365], [456, 450], [366, 464], [492, 480]...  \n",
       "4     [[14, 365], [456, 450], [366, 464], [492, 480]...  \n",
       "...                                                 ...  \n",
       "996   [[14, 365], [456, 450], [366, 464], [492, 480]...  \n",
       "997   [[14, 365], [456, 450], [366, 464], [492, 480]...  \n",
       "998   [[14, 365], [456, 450], [366, 464], [492, 480]...  \n",
       "999   [[14, 365], [456, 450], [366, 464], [492, 480]...  \n",
       "1000  [[14, 365], [456, 450], [366, 464], [492, 480]...  \n",
       "\n",
       "[1001 rows x 4 columns]"
      ]
     },
     "execution_count": 49,
     "metadata": {},
     "output_type": "execute_result"
    }
   ],
   "source": [
    "results = infection_model1(duration=1000, num_people = 1000, num_infected = 5, x_edge = 500, y_edge = 500)\n",
    "results"
   ]
  },
  {
   "cell_type": "code",
   "execution_count": 1,
   "metadata": {},
   "outputs": [
    {
     "ename": "NameError",
     "evalue": "name 'pd' is not defined",
     "output_type": "error",
     "traceback": [
      "\u001b[1;31m---------------------------------------------------------------------------\u001b[0m",
      "\u001b[1;31mNameError\u001b[0m                                 Traceback (most recent call last)",
      "\u001b[1;32m<ipython-input-1-d6fd073ef3e8>\u001b[0m in \u001b[0;36m<module>\u001b[1;34m\u001b[0m\n\u001b[1;32m----> 1\u001b[1;33m \u001b[0mpd\u001b[0m\u001b[1;33m.\u001b[0m\u001b[0mset_option\u001b[0m\u001b[1;33m(\u001b[0m\u001b[1;34m'max_rows'\u001b[0m\u001b[1;33m,\u001b[0m \u001b[1;32mNone\u001b[0m\u001b[1;33m)\u001b[0m\u001b[1;33m\u001b[0m\u001b[1;33m\u001b[0m\u001b[0m\n\u001b[0m\u001b[0;32m      2\u001b[0m \u001b[0mprint\u001b[0m\u001b[1;33m(\u001b[0m\u001b[0mresults\u001b[0m\u001b[1;33m[\u001b[0m\u001b[1;33m[\u001b[0m\u001b[1;34m't'\u001b[0m\u001b[1;33m,\u001b[0m \u001b[1;34m'num_infected'\u001b[0m\u001b[1;33m]\u001b[0m\u001b[1;33m]\u001b[0m\u001b[1;33m)\u001b[0m\u001b[1;33m\u001b[0m\u001b[1;33m\u001b[0m\u001b[0m\n",
      "\u001b[1;31mNameError\u001b[0m: name 'pd' is not defined"
     ]
    }
   ],
   "source": [
    "pd.set_option('max_rows', None)\n",
    "print(results[['t', 'num_infected']])"
   ]
  },
  {
   "cell_type": "code",
   "execution_count": 54,
   "metadata": {},
   "outputs": [
    {
     "data": {
      "image/png": "[encoded data removed]",
      "text/plain": [
       "<Figure size 720x720 with 1 Axes>"
      ]
     },
     "metadata": {
      "needs_background": "light"
     },
     "output_type": "display_data"
    }
   ],
   "source": [
    "plt.figure(figsize = (10, 10))\n",
    "plt.plot(results.t, results.num_infected)\n",
    "plt.title('Changes in the Number of the Infected by Time')\n",
    "plt.xlabel('Time')\n",
    "plt.ylabel('Number of the Infected')\n",
    "plt.savefig('figure1.png')\n",
    "plt.show()"
   ]
  },
  {
   "cell_type": "markdown",
   "metadata": {},
   "source": [
    "fig = plt.figure(figsize=(10, 6))\n",
    "x = np.arange(0, 10, 0.1)\n",
    "\n",
    "def update(i, fig_title, A):\n",
    "    if i != 0:\n",
    "        plt.cla()                      # 現在描写されているグラフを消去\n",
    "\n",
    "    y = A * np.sin(x - i)\n",
    "    plt.plot(x, y, \"r\")\n",
    "    plt.title(fig_title + 'i=' + str(i))\n",
    "\n",
    "\n",
    "ani = anm.FuncAnimation(fig, update, fargs = ('Initial Animation! ', 2.0), \\\n",
    "    interval = 100, frames = 132)\n",
    "\n",
    "ani.save(\"Sample.gif\", writer = 'imagemagick')"
   ]
  },
  {
   "cell_type": "code",
   "execution_count": 48,
   "metadata": {},
   "outputs": [
    {
     "data": {
      "image/png": "[encoded data removed]",
      "text/plain": [
       "<Figure size 720x720 with 1 Axes>"
      ]
     },
     "metadata": {
      "needs_background": "light"
     },
     "output_type": "display_data"
    }
   ],
   "source": [
    "fig = plt.figure(figsize = (10,10))\n",
    "# this function will be added at the end of the mother-function to animte.\n",
    "def update(i):\n",
    "    # erasing existing graphs\n",
    "    if i != 0:\n",
    "        plt.cla()\n",
    "    # setting variables for readability\n",
    "    positions_array = results['positions_array'].iloc[i]\n",
    "    infected_positions_array = results['infected_positions_array'].iloc[i]\n",
    "    # ploting infected people as red and not infected ones as green\n",
    "    plt.scatter(positions_array[:,0], positions_array[:,1], color = 'green')\n",
    "    plt.scatter(infected_positions_array[:,0], infected_positions_array[:,1], color = 'red')\n",
    "    \n",
    "\n",
    "ani = FuncAnimation(fig, update, interval=10, frames = 1000+1)\n",
    "ani.save('infection.gif', writer = 'pillow')"
   ]
  }
 ],
 "metadata": {
  "kernelspec": {
   "display_name": "Python 3",
   "language": "python",
   "name": "python3"
  },
  "language_info": {
   "codemirror_mode": {
    "name": "ipython",
    "version": 3
   },
   "file_extension": ".py",
   "mimetype": "text/x-python",
   "name": "python",
   "nbconvert_exporter": "python",
   "pygments_lexer": "ipython3",
   "version": "3.8.3"
  }
 },
 "nbformat": 4,
 "nbformat_minor": 4
}
